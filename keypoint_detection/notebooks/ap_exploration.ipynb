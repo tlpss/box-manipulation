{
 "cells": [
  {
   "cell_type": "code",
   "execution_count": 3,
   "metadata": {},
   "outputs": [],
   "source": [
    "from keypoint_detection.models.metrics import calculate_ap_from_pr, keypoint_classification,  calculate_precision_recall\n",
    "from keypoint_detection.models.metrics import ClassifiedKeypoint, KeypointAPMetric\n",
    "import matplotlib.pyplot as plt"
   ]
  },
  {
   "cell_type": "markdown",
   "metadata": {},
   "source": [
    "# (mean) Average Precision\n"
   ]
  },
  {
   "cell_type": "markdown",
   "metadata": {},
   "source": [
    "good reference -> https://github.com/rafaelpadilla/Object-Detection-Metrics"
   ]
  },
  {
   "cell_type": "code",
   "execution_count": 22,
   "metadata": {},
   "outputs": [],
   "source": [
    "classified_keypoints = [\n",
    "        ClassifiedKeypoint(0, 0, 0.95, 0, True),\n",
    "        ClassifiedKeypoint(0, 0, 0.95, 0, False),\n",
    "        ClassifiedKeypoint(0, 0, 0.91, 0, True),\n",
    "        ClassifiedKeypoint(0, 0, 0.88, 0, False),\n",
    "        ClassifiedKeypoint(0, 0, 0.84, 0, False),\n",
    "        ClassifiedKeypoint(0, 0, 0.80, 0, False),\n",
    "        ClassifiedKeypoint(0, 0, 0.78, 0, False),\n",
    "        ClassifiedKeypoint(0, 0, 0.74, 0, False),\n",
    "        ClassifiedKeypoint(0, 0, 0.71, 0, False),\n",
    "        ClassifiedKeypoint(0, 0, 0.70, 0, True),\n",
    "        ClassifiedKeypoint(0, 0, 0.67, 0, False),\n",
    "        ClassifiedKeypoint(0, 0, 0.62, 0, True),\n",
    "        ClassifiedKeypoint(0, 0, 0.54, 0, True),\n",
    "        ClassifiedKeypoint(0, 0, 0.48, 0, True),\n",
    "        ClassifiedKeypoint(0, 0, 0.45, 0, False),\n",
    "        ClassifiedKeypoint(0, 0, 0.45, 0, False),\n",
    "        ClassifiedKeypoint(0, 0, 0.44, 0, False),\n",
    "        ClassifiedKeypoint(0, 0, 0.44, 0, False),\n",
    "        ClassifiedKeypoint(0, 0, 0.43, 0, False),\n",
    "        ClassifiedKeypoint(0, 0, 0.38, 0, False),\n",
    "        ClassifiedKeypoint(0, 0, 0.35, 0, False),\n",
    "        ClassifiedKeypoint(0, 0, 0.23, 0, False),\n",
    "        ClassifiedKeypoint(0, 0, 0.18, 0, True),\n",
    "        ClassifiedKeypoint(0, 0, 0.14, 0, False),\n",
    "    ]\n",
    "n_gt = 15"
   ]
  },
  {
   "cell_type": "code",
   "execution_count": 23,
   "metadata": {},
   "outputs": [],
   "source": [
    "precision, recall = calculate_precision_recall(classified_keypoints, n_gt)"
   ]
  },
  {
   "cell_type": "code",
   "execution_count": 24,
   "metadata": {},
   "outputs": [
    {
     "data": {
      "text/plain": [
       "[<matplotlib.lines.Line2D at 0x7fb061c2e760>]"
      ]
     },
     "execution_count": 24,
     "metadata": {},
     "output_type": "execute_result"
    },
    {
     "data": {
      "image/png": "[encoded data removed]",
      "text/plain": [
       "<Figure size 432x288 with 1 Axes>"
      ]
     },
     "metadata": {
      "needs_background": "light"
     },
     "output_type": "display_data"
    }
   ],
   "source": [
    "plt.scatter(recall, precision)\n",
    "plt.plot(recall, precision)"
   ]
  },
  {
   "cell_type": "code",
   "execution_count": 25,
   "metadata": {},
   "outputs": [
    {
     "name": "stdout",
     "output_type": "stream",
     "text": [
      "0.24568668046928915\n"
     ]
    }
   ],
   "source": [
    "print(calculate_ap_from_pr(precision,recall))"
   ]
  }
 ],
 "metadata": {
  "interpreter": {
   "hash": "f906b64a0d5d4d6115edb742e7cca7ea3d71b0e470c6accd3a055dd1e62d03fb"
  },
  "kernelspec": {
   "display_name": "Python 3.9.7 64-bit ('python39': conda)",
   "language": "python",
   "name": "python3"
  },
  "language_info": {
   "codemirror_mode": {
    "name": "ipython",
    "version": 3
   },
   "file_extension": ".py",
   "mimetype": "text/x-python",
   "name": "python",
   "nbconvert_exporter": "python",
   "pygments_lexer": "ipython3",
   "version": "3.9.7"
  },
  "orig_nbformat": 4
 },
 "nbformat": 4,
 "nbformat_minor": 2
}
