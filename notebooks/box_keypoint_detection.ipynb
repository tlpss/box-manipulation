{
 "cells": [
  {
   "cell_type": "code",
   "execution_count": 2,
   "metadata": {},
   "outputs": [],
   "source": [
    "import matplotlib\n",
    "import matplotlib.pyplot as plt\n",
    "%matplotlib inline"
   ]
  },
  {
   "cell_type": "code",
   "execution_count": 3,
   "metadata": {},
   "outputs": [],
   "source": [
    "import torch \n",
    "import torch.nn as nn\n",
    "import pytorch_lightning as pl\n",
    "from torch.utils.data import Dataset, DataLoader, random_split"
   ]
  },
  {
   "cell_type": "code",
   "execution_count": 4,
   "metadata": {},
   "outputs": [
    {
     "name": "stdout",
     "output_type": "stream",
     "text": [
      "Requirement already satisfied: scikit-image in /opt/conda/envs/python39/lib/python3.9/site-packages (0.18.3)\n",
      "Requirement already satisfied: imageio>=2.3.0 in /opt/conda/envs/python39/lib/python3.9/site-packages (from scikit-image) (2.10.1)\n",
      "Requirement already satisfied: matplotlib!=3.0.0,>=2.0.0 in /opt/conda/envs/python39/lib/python3.9/site-packages (from scikit-image) (3.4.3)\n",
      "Requirement already satisfied: scipy>=1.0.1 in /opt/conda/envs/python39/lib/python3.9/site-packages (from scikit-image) (1.7.1)\n",
      "Requirement already satisfied: tifffile>=2019.7.26 in /opt/conda/envs/python39/lib/python3.9/site-packages (from scikit-image) (2021.10.12)\n",
      "Requirement already satisfied: networkx>=2.0 in /opt/conda/envs/python39/lib/python3.9/site-packages (from scikit-image) (2.6.3)\n",
      "Requirement already satisfied: PyWavelets>=1.1.1 in /opt/conda/envs/python39/lib/python3.9/site-packages (from scikit-image) (1.1.1)\n",
      "Requirement already satisfied: pillow!=7.1.0,!=7.1.1,>=4.3.0 in /opt/conda/envs/python39/lib/python3.9/site-packages (from scikit-image) (8.3.2)\n",
      "Requirement already satisfied: numpy>=1.16.5 in /opt/conda/envs/python39/lib/python3.9/site-packages (from scikit-image) (1.21.2)\n",
      "Requirement already satisfied: python-dateutil>=2.7 in /opt/conda/envs/python39/lib/python3.9/site-packages (from matplotlib!=3.0.0,>=2.0.0->scikit-image) (2.8.2)\n",
      "Requirement already satisfied: pyparsing>=2.2.1 in /opt/conda/envs/python39/lib/python3.9/site-packages (from matplotlib!=3.0.0,>=2.0.0->scikit-image) (2.4.7)\n",
      "Requirement already satisfied: cycler>=0.10 in /opt/conda/envs/python39/lib/python3.9/site-packages (from matplotlib!=3.0.0,>=2.0.0->scikit-image) (0.10.0)\n",
      "Requirement already satisfied: kiwisolver>=1.0.1 in /opt/conda/envs/python39/lib/python3.9/site-packages (from matplotlib!=3.0.0,>=2.0.0->scikit-image) (1.3.2)\n",
      "Requirement already satisfied: six in /opt/conda/envs/python39/lib/python3.9/site-packages (from cycler>=0.10->matplotlib!=3.0.0,>=2.0.0->scikit-image) (1.16.0)\n"
     ]
    }
   ],
   "source": [
    "!pip install scikit-image"
   ]
  },
  {
   "cell_type": "code",
   "execution_count": 5,
   "metadata": {},
   "outputs": [
    {
     "name": "stdout",
     "output_type": "stream",
     "text": [
      "/bin/bash: nvidia-smi: command not found\n"
     ]
    }
   ],
   "source": [
    "!nvidia-smi"
   ]
  },
  {
   "cell_type": "code",
   "execution_count": 6,
   "metadata": {},
   "outputs": [
    {
     "data": {
      "text/plain": [
       "False"
      ]
     },
     "execution_count": 6,
     "metadata": {},
     "output_type": "execute_result"
    }
   ],
   "source": [
    "torch.cuda.is_available()"
   ]
  },
  {
   "cell_type": "code",
   "execution_count": 7,
   "metadata": {},
   "outputs": [],
   "source": [
    "def generate_gaussian_maps(keypoints, shape, sigma=0.1):\n",
    "    # keypoints: B x K x 2\n",
    "    # shape: H x W\n",
    "    yy, xx = torch.meshgrid(\n",
    "        torch.linspace(1, -1, shape[-2]),\n",
    "        torch.linspace(-1, 1, shape[-1]),\n",
    "    )\n",
    "    m = torch.exp(- 0.5 * ((xx[None, None, :, :] - keypoints[:, :, None, None, 0]) ** 2 + (yy[None, None, :, :] - keypoints[:, :, None, None, 1]) ** 2) / sigma ** 2)\n",
    "    return m\n",
    "\n",
    "    plt.imshow(generate_gaussian_maps())"
   ]
  },
  {
   "cell_type": "code",
   "execution_count": 8,
   "metadata": {},
   "outputs": [],
   "source": [
    "def gaussian_heatmap(image_size, center, sigma):\n",
    "    \"\"\"Creates a heatmap image with size `image_size` and a gaussian blob with `sigma` at `center`.\n",
    "\n",
    "    coord frame is origin topleft and u right, v down.\n",
    "    Args:\n",
    "        image_size: tuple with image dimensions (width, height)\n",
    "        center: tuple with center coordinate (cx, cy)\n",
    "        sigma: float\n",
    "    Returns:\n",
    "        heatmap: (w, h) heatmap image\n",
    "\n",
    "    \"\"\"\n",
    "    \n",
    "    u_axis = torch.linspace(0, image_size[0]-1, image_size[0]) - center[0]\n",
    "    v_axis = torch.linspace(0, image_size[1]-1, image_size[1]) - center[1]\n",
    "    # create grid values in 2D with x and y coordinate centered aroud the keypoint \n",
    "    xx, yy = torch.meshgrid(v_axis, u_axis) \n",
    "\n",
    "    ## create gaussian around the centered 2D grids $ exp ( -0.5 (x**2 + y**2) / sigma**2)$\n",
    "    heatmap = torch.exp(-0.5 * (torch.square(xx) + torch.square(yy)) / torch.square(sigma))\n",
    "    return heatmap"
   ]
  },
  {
   "cell_type": "code",
   "execution_count": 9,
   "metadata": {},
   "outputs": [
    {
     "data": {
      "text/plain": [
       "<matplotlib.image.AxesImage at 0x7f9c039be4f0>"
      ]
     },
     "execution_count": 9,
     "metadata": {},
     "output_type": "execute_result"
    },
    {
     "data": {
      "image/png": "[encoded data removed]",
      "text/plain": [
       "<Figure size 432x288 with 2 Axes>"
      ]
     },
     "metadata": {
      "needs_background": "light"
     },
     "output_type": "display_data"
    }
   ],
   "source": [
    "## Demonstration on why one should use max(.) instead of sum to combine the keypoints\n",
    "# sum wil make 1 blob of 2 neighbouring keypoints\n",
    "# furthermore it will also reduce the \n",
    "img = gaussian_heatmap((32,32),(8,25),torch.Tensor([4]))\n",
    "img2 = gaussian_heatmap((32,32),(12,25),torch.Tensor([4]))\n",
    "\n",
    "f, axarr = plt.subplots(1,2)\n",
    "axarr[0].imshow(img  +img2)\n",
    "axarr[1].imshow(torch.max(img, img2))"
   ]
  },
  {
   "cell_type": "code",
   "execution_count": 10,
   "metadata": {},
   "outputs": [
    {
     "data": {
      "text/plain": [
       "<matplotlib.image.AxesImage at 0x7f9c02fb32e0>"
      ]
     },
     "execution_count": 10,
     "metadata": {},
     "output_type": "execute_result"
    },
    {
     "data": {
      "image/png": "[encoded data removed]",
      "text/plain": [
       "<Figure size 432x288 with 1 Axes>"
      ]
     },
     "metadata": {
      "needs_background": "light"
     },
     "output_type": "display_data"
    }
   ],
   "source": [
    "def generate_keypoints_heatmap(image_size, keypoints, sigma):\n",
    "    \"\"\"\n",
    "    Generates heatmap with gaussian blobs for each keypoint, using the given sigma.\n",
    "    Max operation is used to combine the heatpoints \n",
    "    Origin is topleft corner and u goes right, v down.\n",
    "\n",
    "    image_size: (int,int) that specify (W,H) of the heatmap image\n",
    "    keypoints: List((int,int)) with keypoints (u,v). \n",
    "    sigma: (float) std deviation of the blobs\n",
    "\n",
    "    returns a np array of the heatmap\n",
    "    \"\"\"\n",
    "    img = torch.zeros(image_size)\n",
    "    sigma = torch.Tensor([sigma])\n",
    "    for keypoint in keypoints:\n",
    "        img = torch.maximum(img,gaussian_heatmap(image_size, keypoint, sigma)) # piecewise max of 2 Tensors\n",
    "    return img\n",
    "\n",
    "heatmap = generate_keypoints_heatmap((32,32), [(4,10), (12, 25), (30,30)], 2)\n",
    "plt.imshow(heatmap)"
   ]
  },
  {
   "cell_type": "code",
   "execution_count": 11,
   "metadata": {},
   "outputs": [
    {
     "name": "stdout",
     "output_type": "stream",
     "text": [
      "[[ 4 10]\n",
      " [12 25]\n",
      " [30 30]]\n"
     ]
    }
   ],
   "source": [
    "from skimage.feature import peak_local_max\n",
    "import numpy as np\n",
    "\n",
    "def get_keypoints_from_heatmap(heatmap: np.ndarray, min_keypoint_pixel_distance):\n",
    "    \"\"\" \n",
    "    Returns a list of (u,v) coordinates of the keypoints\n",
    "\n",
    "    heatmap: a np 2D array\n",
    "    min_keypoint_pixel_distance: minimum distance between 2 keypoints, so the area in which the keypoint has to be the local max is 2*min_distance + 1\n",
    "\n",
    "    cf https://scikit-image.org/docs/dev/api/skimage.feature.html#skimage.feature.peak_local_max\n",
    "    \"\"\"\n",
    "    np_heatmap = heatmap.numpy()\n",
    "    keypoints = peak_local_max(np_heatmap, min_distance = min_keypoint_pixel_distance)\n",
    "    return keypoints[::,::-1] # convert to (u,v) aka (col,row) coord frame from (row,col) \n",
    "\n",
    "print (get_keypoints_from_heatmap(heatmap,1))\n"
   ]
  },
  {
   "cell_type": "code",
   "execution_count": 19,
   "metadata": {},
   "outputs": [],
   "source": [
    "from skimage import io\n",
    "from torchvision.transforms import ToTensor\n",
    "import os \n",
    "\n",
    "class BoxKeypointsDataset(Dataset):\n",
    "    \"\"\"\n",
    "    Create Custom Pytorch Dataset from the Box dataset\n",
    "    cf https://pytorch.org/tutorials/beginner/data_loading_tutorial.html\n",
    "    \"\"\"\n",
    "    def __init__(self,json_file, image_dir):\n",
    "        \"\"\"\n",
    "        json_file  path to json file with dataset\n",
    "        image_dir: path to dir from where the relative image paths in the json are included\n",
    "        transform: torch transforms to apply to the images before using them \n",
    "        \"\"\"\n",
    "\n",
    "        self.json_file = json_file\n",
    "        self.image_dir = image_dir\n",
    "\n",
    "        self.dataset  = None  # List of dicts with 'image_path', 'corner_keypoint' and 'flap_keypoints' keys for each item\n",
    "\n",
    "    \n",
    "    def __len__(self):\n",
    "        return len(self.dataset)\n",
    "    \n",
    "    def __getitem__(self, index):\n",
    "        if torch.is_tensor(index):\n",
    "            index = index.tolist()\n",
    "        index = int(index)\n",
    "\n",
    "        image_path = os.path.join(self.image_dir, self.dataset[index]['image_path'])\n",
    "        image = io.imread(image_path)\n",
    "        image = ToTensor(image)\n",
    "        \n",
    "        corner_keypoints = self.dataset[index]['corner_keypoints']\n",
    "        flap_keypoints = self.dataset[index]['flap_keypoints']\n",
    "\n",
    "        return image, corner_keypoints, flap_keypoints\n",
    "    \n",
    "        \n",
    "\n",
    "\n"
   ]
  },
  {
   "cell_type": "code",
   "execution_count": 20,
   "metadata": {},
   "outputs": [],
   "source": [
    "class BoxKeypointsDataModule(pl.LightningDataModule):\n",
    "    def __init__(self, dataset: BoxKeypointsDataset):\n",
    "        self.dataset = dataset\n",
    "\n",
    "        #TODO: split in test and train set\n",
    "        self.train_dataset = dataset\n",
    "\n",
    "    def prepare_data(self):\n",
    "        # done in dataset class\n",
    "        pass\n",
    "\n",
    "    def train_dataloader(self):\n",
    "        dataloader = DataLoader(self.train_dataset, self.batch_size, shuffle=True, num_workers=4)\n",
    "        return dataloader\n",
    "\n",
    "    def test_dataloader(self):\n",
    "        pass\n",
    "\n",
    "    "
   ]
  },
  {
   "cell_type": "code",
   "execution_count": 13,
   "metadata": {},
   "outputs": [],
   "source": [
    "def imshow(img):\n",
    "    \"\"\"\n",
    "    plot Tensor as image\n",
    "    images are kept in the [0,1] range, although in theory [-1,1] should be used to whiten..\n",
    "    \"\"\"\n",
    "    np_img = img.numpy()\n",
    "    # bring (C,W,H) to (W,H,C) dims\n",
    "    img = np.transpose(np_img, (1,2,0))\n",
    "    plt.imshow(img)\n",
    "    plt.show()\n",
    "    "
   ]
  },
  {
   "cell_type": "code",
   "execution_count": 15,
   "metadata": {},
   "outputs": [
    {
     "name": "stdout",
     "output_type": "stream",
     "text": [
      "torch.Size([1, 1, 32, 32])\n"
     ]
    }
   ],
   "source": [
    "class KeypointDetector(pl.LightningModule):\n",
    "    \"\"\" \n",
    "    Simple keypoint Detector using Gaussian Channels\n",
    "    \"\"\"\n",
    "    def __init__(self):\n",
    "        super().__init__()\n",
    "        self.device = torch.device(\"cuda\" if torch.cuda.is_available() else \"cpu\")\n",
    "        self.heatmap_sigma = 4 \n",
    "\n",
    "\n",
    "        n_channels = 32\n",
    "        n_channels_in = 3\n",
    "        n_channels_out = 1 # number of keypoint classes \n",
    "        kernel_size = (3,3)\n",
    "        self.model = nn.Sequential(\n",
    "            nn.Conv2d(in_channels=n_channels_in, out_channels=n_channels, kernel_size=kernel_size, padding='same'),\n",
    "            nn.LeakyReLU(),\n",
    "            nn.Conv2d(in_channels=n_channels, out_channels=n_channels, kernel_size=kernel_size, padding='same'),\n",
    "            nn.LeakyReLU(),\n",
    "            nn.Conv2d(in_channels=n_channels, out_channels=n_channels, kernel_size=kernel_size, dilation=2, padding='same'),\n",
    "            nn.LeakyReLU(),\n",
    "            nn.Conv2d(in_channels=n_channels, out_channels=n_channels, kernel_size=kernel_size, dilation=4, padding='same'),\n",
    "            nn.LeakyReLU(),\n",
    "            nn.Conv2d(in_channels=n_channels, out_channels=n_channels, kernel_size=kernel_size, dilation=8, padding='same'),\n",
    "            nn.LeakyReLU(),\n",
    "            nn.Conv2d(in_channels=n_channels, out_channels=n_channels, kernel_size=kernel_size,dilation=16, padding='same'),\n",
    "            nn.LeakyReLU(),\n",
    "            nn.Conv2d(in_channels=n_channels, out_channels=n_channels, kernel_size=kernel_size, padding='same'),\n",
    "            nn.LeakyReLU(),\n",
    "            nn.Conv2d(in_channels=n_channels, out_channels=n_channels, kernel_size=kernel_size, dilation=2, padding='same'),\n",
    "            nn.LeakyReLU(),\n",
    "            nn.Conv2d(in_channels=n_channels, out_channels=n_channels, kernel_size=kernel_size, dilation=4, padding='same'),\n",
    "            nn.LeakyReLU(),\n",
    "            nn.Conv2d(in_channels=n_channels, out_channels=n_channels, kernel_size=kernel_size, dilation=8, padding='same'),\n",
    "            nn.LeakyReLU(),\n",
    "            nn.Conv2d(in_channels=n_channels, out_channels=n_channels, kernel_size=kernel_size,dilation=16, padding='same'),\n",
    "            nn.LeakyReLU(),\n",
    "            nn.Conv2d(in_channels=n_channels, out_channels=n_channels, kernel_size=kernel_size, padding='same'),\n",
    "            nn.LeakyReLU(),\n",
    "            nn.Conv2d(in_channels=n_channels, out_channels=n_channels_out, kernel_size=kernel_size, padding='same'),\n",
    "            nn.Sigmoid()\n",
    "        ).to(self.device)\n",
    "\n",
    "    def forward(self,x):\n",
    "        \"\"\"\n",
    "        x shape must be (N,C_in,H,W) with N batch size, and C_in number of incoming channels (3)\n",
    "        return shape = (N, 1, H,W)\n",
    "        \"\"\"\n",
    "        return self.model(x)\n",
    "\n",
    "    def configure_optimizers(self):\n",
    "        optimizer = torch.optim.Adam(self.parameters())\n",
    "        return optimizer\n",
    "\n",
    "    def loss(self, predicted_heatmaps, heatmaps):\n",
    "        # No focal loss as in CenterNet paper bc @Peter said it does not improve performance too much, so KISS and maybe add it later\n",
    "        return torch.nn.functional.binary_cross_entropy(predicted_heatmaps, heatmaps, reduction='mean')\n",
    "    \n",
    "    def create_heatmap_batch(self, shape, keypoints):\n",
    "        batch_heatmaps = [ generate_keypoints_heatmap(shape, keypoints[i],self.heatmap_sigma) for i in range(len(keypoints))]\n",
    "        batch_heatmaps = np.stack(batch_heatmaps, axis=0)\n",
    "        batch_heatmaps = torch.from_numpy(batch_heatmaps)\n",
    "\n",
    "    def training_step(self, train_batch, batch_idx):\n",
    "        imgs, corner_keypoints, flap_keypoints = train_batch\n",
    "\n",
    "        # load here to device to keep mem consumption low, if possible one could also load entire dataset on GPU to speed up training..\n",
    "        imgs = imgs.to(self.device)\n",
    "        # create heatmaps JIT, is this desirable? \n",
    "        corner_heatmaps = self.create_heatmap_batch(img[0].shape[1:], corner_keypoints,self.heatmap_sigma).to(self.device)\n",
    "        #flap_heatmaps = self.create_heatmap_batch(img[0].shape[1:], flap_keypoints,self.heatmap_sigma).to(self.device)\n",
    "\n",
    "\n",
    "        predicted_heatmaps = self.foward(imgs)\n",
    "        predicted_corner_heatmaps = predicted_heatmaps[:,0,:,:]\n",
    "\n",
    "        corner_loss = self.loss(predicted_corner_heatmaps, corner_heatmaps)\n",
    "\n",
    "        loss = corner_loss\n",
    "\n",
    "        ## logging\n",
    "        self.log('train_corner_loss', corner_loss)\n",
    "        self.log('train_loss', loss)\n",
    "        return loss \n",
    "        \n"
   ]
  },
  {
   "cell_type": "code",
   "execution_count": 16,
   "metadata": {},
   "outputs": [
    {
     "name": "stdout",
     "output_type": "stream",
     "text": [
      "torch.Size([1, 1, 180, 180])\n",
      "KeypointDetector(\n",
      "  (model): Sequential(\n",
      "    (0): Conv2d(3, 32, kernel_size=(3, 3), stride=(1, 1), padding=same)\n",
      "    (1): LeakyReLU(negative_slope=0.01)\n",
      "    (2): Conv2d(32, 32, kernel_size=(3, 3), stride=(1, 1), padding=same)\n",
      "    (3): LeakyReLU(negative_slope=0.01)\n",
      "    (4): Conv2d(32, 32, kernel_size=(3, 3), stride=(1, 1), padding=same, dilation=(2, 2))\n",
      "    (5): LeakyReLU(negative_slope=0.01)\n",
      "    (6): Conv2d(32, 32, kernel_size=(3, 3), stride=(1, 1), padding=same, dilation=(4, 4))\n",
      "    (7): LeakyReLU(negative_slope=0.01)\n",
      "    (8): Conv2d(32, 32, kernel_size=(3, 3), stride=(1, 1), padding=same, dilation=(8, 8))\n",
      "    (9): LeakyReLU(negative_slope=0.01)\n",
      "    (10): Conv2d(32, 32, kernel_size=(3, 3), stride=(1, 1), padding=same, dilation=(16, 16))\n",
      "    (11): LeakyReLU(negative_slope=0.01)\n",
      "    (12): Conv2d(32, 32, kernel_size=(3, 3), stride=(1, 1), padding=same)\n",
      "    (13): LeakyReLU(negative_slope=0.01)\n",
      "    (14): Conv2d(32, 32, kernel_size=(3, 3), stride=(1, 1), padding=same, dilation=(2, 2))\n",
      "    (15): LeakyReLU(negative_slope=0.01)\n",
      "    (16): Conv2d(32, 32, kernel_size=(3, 3), stride=(1, 1), padding=same, dilation=(4, 4))\n",
      "    (17): LeakyReLU(negative_slope=0.01)\n",
      "    (18): Conv2d(32, 32, kernel_size=(3, 3), stride=(1, 1), padding=same, dilation=(8, 8))\n",
      "    (19): LeakyReLU(negative_slope=0.01)\n",
      "    (20): Conv2d(32, 32, kernel_size=(3, 3), stride=(1, 1), padding=same, dilation=(16, 16))\n",
      "    (21): LeakyReLU(negative_slope=0.01)\n",
      "    (22): Conv2d(32, 32, kernel_size=(3, 3), stride=(1, 1), padding=same)\n",
      "    (23): LeakyReLU(negative_slope=0.01)\n",
      "    (24): Conv2d(32, 1, kernel_size=(3, 3), stride=(1, 1), padding=same)\n",
      "    (25): Sigmoid()\n",
      "  )\n",
      ")\n"
     ]
    }
   ],
   "source": [
    "model = KeypointDetector()\n",
    "dummy_input = torch.rand((1,3,180,180))\n",
    "\n",
    "output = model(dummy_input)\n",
    "print(output.shape)\n",
    "print(model)\n"
   ]
  },
  {
   "cell_type": "code",
   "execution_count": 21,
   "metadata": {},
   "outputs": [
    {
     "name": "stderr",
     "output_type": "stream",
     "text": [
      "GPU available: False, used: False\n",
      "TPU available: False, using: 0 TPU cores\n",
      "IPU available: False, using: 0 IPUs\n"
     ]
    }
   ],
   "source": [
    "model = KeypointDetector()\n",
    "box_dataset = BoxKeypointsDataset(\"json\",\"image_dir\")\n",
    "datamodule = BoxKeypointsDataModule(box_dataset)\n",
    "\n",
    "trainer = pl.Trainer(max_epochs = 1)\n"
   ]
  },
  {
   "cell_type": "code",
   "execution_count": null,
   "metadata": {},
   "outputs": [],
   "source": [
    "import tensorboard\n",
    "%load_ext tensorboard\n",
    "%tensorboard --logdir lightning_logs/"
   ]
  },
  {
   "cell_type": "code",
   "execution_count": null,
   "metadata": {},
   "outputs": [],
   "source": [
    "trainer.fit(model, datamodule)"
   ]
  }
 ],
 "metadata": {
  "interpreter": {
   "hash": "f906b64a0d5d4d6115edb742e7cca7ea3d71b0e470c6accd3a055dd1e62d03fb"
  },
  "kernelspec": {
   "display_name": "Python 3.9.7 64-bit ('python39': conda)",
   "name": "python3"
  },
  "language_info": {
   "codemirror_mode": {
    "name": "ipython",
    "version": 3
   },
   "file_extension": ".py",
   "mimetype": "text/x-python",
   "name": "python",
   "nbconvert_exporter": "python",
   "pygments_lexer": "ipython3",
   "version": "3.9.7"
  },
  "orig_nbformat": 4
 },
 "nbformat": 4,
 "nbformat_minor": 2
}
